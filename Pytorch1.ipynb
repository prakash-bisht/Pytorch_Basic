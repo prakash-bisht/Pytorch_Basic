{
  "nbformat": 4,
  "nbformat_minor": 0,
  "metadata": {
    "colab": {
      "name": "Pytorch1.ipynb",
      "provenance": []
    },
    "kernelspec": {
      "name": "python3",
      "display_name": "Python 3"
    },
    "language_info": {
      "name": "python"
    }
  },
  "cells": [
    {
      "cell_type": "code",
      "metadata": {
        "id": "Lp2pU6X_4kie"
      },
      "source": [
        "import torch\n",
        "import numpy as np "
      ],
      "execution_count": null,
      "outputs": []
    },
    {
      "cell_type": "code",
      "metadata": {
        "colab": {
          "base_uri": "https://localhost:8080/"
        },
        "id": "J5qPZIJu7hY5",
        "outputId": "882bf851-afcc-4af5-9b09-28d5b5afb14d"
      },
      "source": [
        "data = [[1,2],[3,4]]\n",
        "a = torch.tensor(data)\n",
        "a"
      ],
      "execution_count": null,
      "outputs": [
        {
          "output_type": "execute_result",
          "data": {
            "text/plain": [
              "tensor([[1, 2],\n",
              "        [3, 4]])"
            ]
          },
          "metadata": {
            "tags": []
          },
          "execution_count": 2
        }
      ]
    },
    {
      "cell_type": "code",
      "metadata": {
        "colab": {
          "base_uri": "https://localhost:8080/"
        },
        "id": "3sTihAgq7hc7",
        "outputId": "65bea2ee-90c4-4c99-c5c3-cc549eaa64fb"
      },
      "source": [
        "array = np.array(data)\n",
        "np = torch.from_numpy(array)\n",
        "np"
      ],
      "execution_count": null,
      "outputs": [
        {
          "output_type": "execute_result",
          "data": {
            "text/plain": [
              "tensor([[1, 2],\n",
              "        [3, 4]])"
            ]
          },
          "metadata": {
            "tags": []
          },
          "execution_count": 4
        }
      ]
    },
    {
      "cell_type": "code",
      "metadata": {
        "colab": {
          "base_uri": "https://localhost:8080/"
        },
        "id": "AOIePAwW7hgn",
        "outputId": "5b1ec118-ca83-4d11-aebc-1eb37804fba3"
      },
      "source": [
        "ones = torch.ones_like(a)\n",
        "print(ones)\n",
        "rands = torch.rand_like(a,dtype=torch.float)\n",
        "print(rands)"
      ],
      "execution_count": null,
      "outputs": [
        {
          "output_type": "stream",
          "text": [
            "tensor([[1, 1],\n",
            "        [1, 1]])\n",
            "tensor([[0.8875, 0.5392],\n",
            "        [0.9601, 0.8830]])\n"
          ],
          "name": "stdout"
        }
      ]
    },
    {
      "cell_type": "code",
      "metadata": {
        "colab": {
          "base_uri": "https://localhost:8080/"
        },
        "id": "naeUg0IG7hjN",
        "outputId": "80235860-8e05-42e3-cf36-15dd837050de"
      },
      "source": [
        "shape = (3,3,)\n",
        "rand_tensor = torch.rand(shape)\n",
        "ones_tensor = torch.ones(shape)\n",
        "zeros_tensor = torch.zeros(shape)\n",
        "print(f\"rand tensor: \\n {rand_tensor} \\n\")\n",
        "print(f\"ones tensor: \\n {ones_tensor} \\n\")\n",
        "print(f\"zero tensor: \\n {zeros_tensor} \\n\")"
      ],
      "execution_count": null,
      "outputs": [
        {
          "output_type": "stream",
          "text": [
            "rand tensor: \n",
            " tensor([[0.6079, 0.4384, 0.8422],\n",
            "        [0.6681, 0.9703, 0.6813],\n",
            "        [0.4544, 0.7294, 0.0228]]) \n",
            "\n",
            "ones tensor: \n",
            " tensor([[1., 1., 1.],\n",
            "        [1., 1., 1.],\n",
            "        [1., 1., 1.]]) \n",
            "\n",
            "zero tensor: \n",
            " tensor([[0., 0., 0.],\n",
            "        [0., 0., 0.],\n",
            "        [0., 0., 0.]]) \n",
            "\n"
          ],
          "name": "stdout"
        }
      ]
    },
    {
      "cell_type": "code",
      "metadata": {
        "colab": {
          "base_uri": "https://localhost:8080/"
        },
        "id": "iHWW-MDh7hls",
        "outputId": "6637f561-ab6c-47b0-d6a0-10d583d4fa35"
      },
      "source": [
        "tensor = torch.rand(5,5)\n",
        "print(f\"tensor datatype: {tensor.dtype}\")\n",
        "print(f\"tensor shape: {tensor.shape}\")\n",
        "print(f\"tensor device: {tensor.device}\")"
      ],
      "execution_count": null,
      "outputs": [
        {
          "output_type": "stream",
          "text": [
            "tensor datatype: torch.float32\n",
            "tensor shape: torch.Size([5, 5])\n",
            "tensor device: cpu\n"
          ],
          "name": "stdout"
        }
      ]
    },
    {
      "cell_type": "code",
      "metadata": {
        "id": "AEdEr8V27hok"
      },
      "source": [
        "if torch.cuda.is_available():\n",
        "  tensor = tensor.to(\"cuda\")"
      ],
      "execution_count": null,
      "outputs": []
    },
    {
      "cell_type": "code",
      "metadata": {
        "colab": {
          "base_uri": "https://localhost:8080/"
        },
        "id": "rf6VUooZ7hq4",
        "outputId": "cd80d1bf-79aa-4dc7-8672-cabf52cf0ceb"
      },
      "source": [
        "tensor = torch.ones(3,3)\n",
        "tensor[:,2] = 0\n",
        "print(tensor)"
      ],
      "execution_count": null,
      "outputs": [
        {
          "output_type": "stream",
          "text": [
            "tensor([[1., 1., 0.],\n",
            "        [1., 1., 0.],\n",
            "        [1., 1., 0.]])\n"
          ],
          "name": "stdout"
        }
      ]
    },
    {
      "cell_type": "code",
      "metadata": {
        "colab": {
          "base_uri": "https://localhost:8080/"
        },
        "id": "feNqoQpO7hua",
        "outputId": "13bdefc1-eebf-467c-b7a2-1a51e3c503ef"
      },
      "source": [
        "t = torch.cat([tensor,tensor],dim=1)\n",
        "print(t)"
      ],
      "execution_count": null,
      "outputs": [
        {
          "output_type": "stream",
          "text": [
            "tensor([[1., 1., 0., 1., 1., 0.],\n",
            "        [1., 1., 0., 1., 1., 0.],\n",
            "        [1., 1., 0., 1., 1., 0.]])\n"
          ],
          "name": "stdout"
        }
      ]
    },
    {
      "cell_type": "code",
      "metadata": {
        "colab": {
          "base_uri": "https://localhost:8080/"
        },
        "id": "7_G2ikZb7hxk",
        "outputId": "0a178f81-ff55-4c87-85f1-3afad3177e46"
      },
      "source": [
        "print(f\"mul tensor: \\n {tensor.mul(tensor)} \\n\")\n",
        "print(f\"tensor*tensor: \\n {tensor*tensor} \\n\")"
      ],
      "execution_count": null,
      "outputs": [
        {
          "output_type": "stream",
          "text": [
            "mul tensor: \n",
            " tensor([[1., 1., 0.],\n",
            "        [1., 1., 0.],\n",
            "        [1., 1., 0.]]) \n",
            "\n",
            "tensor*tensor: \n",
            " tensor([[1., 1., 0.],\n",
            "        [1., 1., 0.],\n",
            "        [1., 1., 0.]]) \n",
            "\n"
          ],
          "name": "stdout"
        }
      ]
    },
    {
      "cell_type": "code",
      "metadata": {
        "colab": {
          "base_uri": "https://localhost:8080/"
        },
        "id": "naLf8kTe7h0R",
        "outputId": "bce80ceb-b066-482e-f6a0-c26ea7da7f90"
      },
      "source": [
        "print(f\"tensor.matmul(tensor.T): \\n {tensor.matmul(tensor.T)} \\n\")\n",
        "print(f\"tensor @ tensor.T: \\n {tensor @ tensor.T} \\n\")"
      ],
      "execution_count": null,
      "outputs": [
        {
          "output_type": "stream",
          "text": [
            "tensor.matmul(tensor.T): \n",
            " tensor([[2., 2., 2.],\n",
            "        [2., 2., 2.],\n",
            "        [2., 2., 2.]]) \n",
            "\n",
            "tensor @ tensor.T: \n",
            " tensor([[2., 2., 2.],\n",
            "        [2., 2., 2.],\n",
            "        [2., 2., 2.]]) \n",
            "\n"
          ],
          "name": "stdout"
        }
      ]
    },
    {
      "cell_type": "code",
      "metadata": {
        "colab": {
          "base_uri": "https://localhost:8080/"
        },
        "id": "n9jlAPfZ7h3J",
        "outputId": "d8b5baac-8746-4c80-d70f-64afd453713b"
      },
      "source": [
        "print(tensor,\"\\n\")\n",
        "tensor.add_(9)\n",
        "print(tensor)"
      ],
      "execution_count": null,
      "outputs": [
        {
          "output_type": "stream",
          "text": [
            "tensor([[1., 1., 0.],\n",
            "        [1., 1., 0.],\n",
            "        [1., 1., 0.]]) \n",
            "\n",
            "tensor([[10., 10.,  9.],\n",
            "        [10., 10.,  9.],\n",
            "        [10., 10.,  9.]])\n"
          ],
          "name": "stdout"
        }
      ]
    },
    {
      "cell_type": "code",
      "metadata": {
        "colab": {
          "base_uri": "https://localhost:8080/"
        },
        "id": "Xx0rpdwoHdnj",
        "outputId": "b94d2cb5-df3a-456e-fd72-62aa062428b1"
      },
      "source": [
        "v = torch.ones(5)\n",
        "print(v)\n",
        "b = v.numpy()\n",
        "print(b)"
      ],
      "execution_count": null,
      "outputs": [
        {
          "output_type": "stream",
          "text": [
            "tensor([1., 1., 1., 1., 1.])\n",
            "[1. 1. 1. 1. 1.]\n"
          ],
          "name": "stdout"
        }
      ]
    }
  ]
}